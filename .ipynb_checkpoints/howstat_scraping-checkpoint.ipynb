{
 "cells": [
  {
   "cell_type": "code",
   "execution_count": null,
   "id": "IVPitDkPn6Nm",
   "metadata": {
    "colab": {
     "base_uri": "https://localhost:8080/"
    },
    "executionInfo": {
     "elapsed": 6343,
     "status": "ok",
     "timestamp": 1678359373467,
     "user": {
      "displayName": "Bharani J",
      "userId": "03739191526649718307"
     },
     "user_tz": -330
    },
    "id": "IVPitDkPn6Nm",
    "outputId": "58043383-b5a2-44e9-a3dc-e92a5f91acd5"
   },
   "outputs": [
    {
     "name": "stdout",
     "output_type": "stream",
     "text": [
      "Looking in indexes: https://pypi.org/simple, https://us-python.pkg.dev/colab-wheels/public/simple/\n",
      "Requirement already satisfied: pip in /usr/local/lib/python3.9/dist-packages (22.0.4)\n",
      "Collecting install\n",
      "  Downloading install-1.3.5-py3-none-any.whl (3.2 kB)\n",
      "Collecting html-table-parser-python3\n",
      "  Downloading html_table_parser_python3-0.3.1-py3-none-any.whl (15 kB)\n",
      "Installing collected packages: install, html-table-parser-python3\n",
      "Successfully installed html-table-parser-python3-0.3.1 install-1.3.5\n"
     ]
    }
   ],
   "source": [
    "!pip install pip install html-table-parser-python3"
   ]
  },
  {
   "cell_type": "code",
   "execution_count": null,
   "id": "shYTLpOsm4Go",
   "metadata": {
    "id": "shYTLpOsm4Go"
   },
   "outputs": [],
   "source": [
    "from urllib.request import urlopen\n",
    "from urllib.error import URLError\n",
    "from urllib.parse import urlparse\n",
    "import csv\n",
    "import sys\n",
    "import time\n",
    "import os\n",
    "import unicodedata\n",
    "from bs4 import BeautifulSoup, SoupStrainer\n",
    "import requests\n",
    "from html_table_parser.parser import HTMLTableParser\n",
    "import pandas as pd\n",
    "import numpy as np\n",
    "from itertools import chain"
   ]
  },
  {
   "cell_type": "code",
   "execution_count": null,
   "id": "iUufKzAirYvJ",
   "metadata": {
    "id": "iUufKzAirYvJ"
   },
   "outputs": [],
   "source": [
    "home_url = 'http://www.howstat.com/cricket/Statistics/Matches/MatchListMenu.asp'"
   ]
  },
  {
   "cell_type": "code",
   "execution_count": null,
   "id": "yJYas5Ftu6Wx",
   "metadata": {
    "colab": {
     "base_uri": "https://localhost:8080/"
    },
    "executionInfo": {
     "elapsed": 656,
     "status": "ok",
     "timestamp": 1678203743336,
     "user": {
      "displayName": "Bharani J",
      "userId": "03739191526649718307"
     },
     "user_tz": -330
    },
    "id": "yJYas5Ftu6Wx",
    "outputId": "c3ee4555-8463-4422-f9a1-660b90583c68"
   },
   "outputs": [
    {
     "name": "stdout",
     "output_type": "stream",
     "text": [
      "[2008, 2009, 2010, 2011, 2012, 2013, 2014, 2015, 2016, 2017, 2018, 2019, 2020, 2021, 2022]\n"
     ]
    }
   ],
   "source": [
    "season_range = list(range(2008, 2023))\n",
    "print(season_range)"
   ]
  },
  {
   "cell_type": "code",
   "execution_count": null,
   "id": "YsitX4ZvvPiy",
   "metadata": {
    "colab": {
     "base_uri": "https://localhost:8080/"
    },
    "executionInfo": {
     "elapsed": 16,
     "status": "ok",
     "timestamp": 1678204010091,
     "user": {
      "displayName": "Bharani J",
      "userId": "03739191526649718307"
     },
     "user_tz": -330
    },
    "id": "YsitX4ZvvPiy",
    "outputId": "475f8a23-750c-472f-d278-a543448e519c"
   },
   "outputs": [
    {
     "name": "stdout",
     "output_type": "stream",
     "text": [
      "http://www.howstat.com/cricket/Statistics/IPL/MatchList.asp?Season=2008\n",
      "http://www.howstat.com/cricket/Statistics/IPL/MatchList.asp?Season=2009\n",
      "http://www.howstat.com/cricket/Statistics/IPL/MatchList.asp?Season=2010\n",
      "http://www.howstat.com/cricket/Statistics/IPL/MatchList.asp?Season=2011\n",
      "http://www.howstat.com/cricket/Statistics/IPL/MatchList.asp?Season=2012\n",
      "http://www.howstat.com/cricket/Statistics/IPL/MatchList.asp?Season=2013\n",
      "http://www.howstat.com/cricket/Statistics/IPL/MatchList.asp?Season=2014\n",
      "http://www.howstat.com/cricket/Statistics/IPL/MatchList.asp?Season=2015\n",
      "http://www.howstat.com/cricket/Statistics/IPL/MatchList.asp?Season=2016\n",
      "http://www.howstat.com/cricket/Statistics/IPL/MatchList.asp?Season=2017\n",
      "http://www.howstat.com/cricket/Statistics/IPL/MatchList.asp?Season=2018\n",
      "http://www.howstat.com/cricket/Statistics/IPL/MatchList.asp?Season=2019\n",
      "http://www.howstat.com/cricket/Statistics/IPL/MatchList.asp?Season=2020\n",
      "http://www.howstat.com/cricket/Statistics/IPL/MatchList.asp?Season=2021\n",
      "http://www.howstat.com/cricket/Statistics/IPL/MatchList.asp?Season=2022\n"
     ]
    }
   ],
   "source": [
    "season_urls = []\n",
    "\n",
    "for i in season_range:\n",
    "    url = f'http://www.howstat.com/cricket/Statistics/IPL/MatchList.asp?Season={i}'\n",
    "    season_urls.append(url)\n",
    "\n",
    "print(*season_urls, sep='\\n')"
   ]
  },
  {
   "cell_type": "code",
   "execution_count": null,
   "id": "KIE9iX7RwRUp",
   "metadata": {
    "id": "KIE9iX7RwRUp"
   },
   "outputs": [],
   "source": [
    "base = 'http://www.howstat.com/cricket/Statistics/IPL/'\n",
    "all_seasons_data = []\n",
    "for u in season_range[4:]:\n",
    "    url = base + f'MatchList.asp?Season={u}'\n",
    "    print(url)\n",
    "    res = requests.get(url)\n",
    "    soup = BeautifulSoup(res.text, \"html.parser\")\n",
    "    find_table = soup.find('table', class_='TableLined')\n",
    "    rows = find_table.find_all('tr')\n",
    "    rows = rows[1:-1]\n",
    "    all_matches_url = []\n",
    "    for r in range(len(rows)):\n",
    "        all_tds = rows[r].find_all('td')\n",
    "        anchor_tag = all_tds[1].find('a', href=True)\n",
    "        match_code = anchor_tag['href']\n",
    "        match_url = base + match_code\n",
    "        all_matches_url.append(match_url)\n",
    "    \n",
    "    all_matches = []\n",
    "    for m in all_matches_url:\n",
    "        master_list = []\n",
    "        res = requests.get(m)\n",
    "        soup = BeautifulSoup(res.text, \"html.parser\")\n",
    "        match_details = str(soup.find('td', class_='ScoreCardBannerIPL').text).strip()\n",
    "        match_between = match_details.partition('-')[2].strip('\\r\\t\\n-').partition(' -')[0]\n",
    "        home_team = match_between.partition(' v ')[0]\n",
    "        master_list.append(home_team)\n",
    "        away_team = match_between.partition(' v ')[2]\n",
    "        master_list.append(away_team)\n",
    "        table = soup.find('table', class_='Table_D')\n",
    "        rows = table.find_all('tr')\n",
    "        for row in rows[:-1]:\n",
    "            print(row)\n",
    "            try:\n",
    "                col_value = str(row.find('td', class_='TextBlack8').text).strip()\n",
    "                master_list.append(col_value)\n",
    "            except AttributeError:\n",
    "                continue\n",
    "        all_matches.append(master_list)\n",
    "        time.sleep(5)\n",
    "    time.sleep(20)\n",
    "    all_seasons_data.append(all_matches)"
   ]
  },
  {
   "cell_type": "code",
   "execution_count": null,
   "id": "uncZA6MwhMvQ",
   "metadata": {
    "id": "uncZA6MwhMvQ"
   },
   "outputs": [],
   "source": [
    "all_seasons_data_until_2011 = all_seasons_data"
   ]
  },
  {
   "cell_type": "code",
   "execution_count": null,
   "id": "A1lTxo6A4NVD",
   "metadata": {
    "id": "A1lTxo6A4NVD"
   },
   "outputs": [],
   "source": [
    "all_seasons_data_until_2011.append(all_seasons_data)"
   ]
  },
  {
   "cell_type": "code",
   "execution_count": null,
   "id": "WRMYDS-q3zRI",
   "metadata": {
    "colab": {
     "base_uri": "https://localhost:8080/"
    },
    "executionInfo": {
     "elapsed": 21,
     "status": "ok",
     "timestamp": 1678222899560,
     "user": {
      "displayName": "Bharani J",
      "userId": "03739191526649718307"
     },
     "user_tz": -330
    },
    "id": "WRMYDS-q3zRI",
    "outputId": "4793e228-40a8-4a4e-a2a7-affe44b9e97c"
   },
   "outputs": [
    {
     "data": {
      "text/plain": [
       "5"
      ]
     },
     "execution_count": 197,
     "metadata": {},
     "output_type": "execute_result"
    }
   ],
   "source": [
    "len(all_seasons_data_until_2011)"
   ]
  },
  {
   "cell_type": "code",
   "execution_count": null,
   "id": "mLBC64hy4fYR",
   "metadata": {
    "id": "mLBC64hy4fYR"
   },
   "outputs": [],
   "source": []
  },
  {
   "cell_type": "code",
   "execution_count": null,
   "id": "tCNm66K-4hv9",
   "metadata": {
    "id": "tCNm66K-4hv9"
   },
   "outputs": [],
   "source": [
    "flat_list = list(chain(*all_seasons_data))"
   ]
  },
  {
   "cell_type": "code",
   "execution_count": null,
   "id": "rpWkNlVR4kF8",
   "metadata": {
    "colab": {
     "base_uri": "https://localhost:8080/"
    },
    "executionInfo": {
     "elapsed": 28,
     "status": "ok",
     "timestamp": 1678223004526,
     "user": {
      "displayName": "Bharani J",
      "userId": "03739191526649718307"
     },
     "user_tz": -330
    },
    "id": "rpWkNlVR4kF8",
    "outputId": "3c339196-c6ab-471a-fc27-d6ebf299bb97"
   },
   "outputs": [
    {
     "data": {
      "text/plain": [
       "706"
      ]
     },
     "execution_count": 202,
     "metadata": {},
     "output_type": "execute_result"
    }
   ],
   "source": [
    "len(flat_list)"
   ]
  },
  {
   "cell_type": "code",
   "execution_count": null,
   "id": "5Au102-44vSN",
   "metadata": {
    "id": "5Au102-44vSN"
   },
   "outputs": [],
   "source": [
    "flat_list_1 = list(chain(*all_seasons_data_until_2011[:-1]))"
   ]
  },
  {
   "cell_type": "code",
   "execution_count": null,
   "id": "0ORESiMY41Ur",
   "metadata": {
    "colab": {
     "base_uri": "https://localhost:8080/"
    },
    "executionInfo": {
     "elapsed": 34,
     "status": "ok",
     "timestamp": 1678223043696,
     "user": {
      "displayName": "Bharani J",
      "userId": "03739191526649718307"
     },
     "user_tz": -330
    },
    "id": "0ORESiMY41Ur",
    "outputId": "ddcdf19a-2564-4584-f405-ba31631ff419"
   },
   "outputs": [
    {
     "data": {
      "text/plain": [
       "252"
      ]
     },
     "execution_count": 204,
     "metadata": {},
     "output_type": "execute_result"
    }
   ],
   "source": [
    "len(flat_list_1)"
   ]
  },
  {
   "cell_type": "code",
   "execution_count": null,
   "id": "fifODGU-45E0",
   "metadata": {
    "id": "fifODGU-45E0"
   },
   "outputs": [],
   "source": [
    "full_list = flat_list + flat_list_1"
   ]
  },
  {
   "cell_type": "code",
   "execution_count": null,
   "id": "EQp-uM9049Bz",
   "metadata": {
    "colab": {
     "base_uri": "https://localhost:8080/"
    },
    "executionInfo": {
     "elapsed": 8,
     "status": "ok",
     "timestamp": 1678223073843,
     "user": {
      "displayName": "Bharani J",
      "userId": "03739191526649718307"
     },
     "user_tz": -330
    },
    "id": "EQp-uM9049Bz",
    "outputId": "f571a5a0-6a5a-4760-95fd-700ac7974ccc"
   },
   "outputs": [
    {
     "data": {
      "text/plain": [
       "958"
      ]
     },
     "execution_count": 206,
     "metadata": {},
     "output_type": "execute_result"
    }
   ],
   "source": [
    "len(full_list)"
   ]
  },
  {
   "cell_type": "code",
   "execution_count": null,
   "id": "UNWSMDXp5WVA",
   "metadata": {
    "id": "UNWSMDXp5WVA"
   },
   "outputs": [],
   "source": []
  },
  {
   "cell_type": "code",
   "execution_count": null,
   "id": "l5oRXhGr5YsX",
   "metadata": {
    "colab": {
     "base_uri": "https://localhost:8080/"
    },
    "executionInfo": {
     "elapsed": 11,
     "status": "ok",
     "timestamp": 1678223283321,
     "user": {
      "displayName": "Bharani J",
      "userId": "03739191526649718307"
     },
     "user_tz": -330
    },
    "id": "l5oRXhGr5YsX",
    "outputId": "6ed92b62-bb25-4a81-cf16-4028e6016517"
   },
   "outputs": [
    {
     "data": {
      "text/plain": [
       "9"
      ]
     },
     "execution_count": 215,
     "metadata": {},
     "output_type": "execute_result"
    }
   ],
   "source": [
    "len(full_list[0])"
   ]
  },
  {
   "cell_type": "code",
   "execution_count": null,
   "id": "WQSzDoXY5a8f",
   "metadata": {
    "id": "WQSzDoXY5a8f"
   },
   "outputs": [],
   "source": [
    "headers = ['home', 'away', 'date', 'season','venue', 'type', 'toss', 'winner', 'man_of_match', 'points']"
   ]
  },
  {
   "cell_type": "code",
   "execution_count": null,
   "id": "YGfWNVaZ4-zH",
   "metadata": {
    "id": "YGfWNVaZ4-zH"
   },
   "outputs": [],
   "source": [
    "df = pd.DataFrame(full_list, columns=headers)"
   ]
  },
  {
   "cell_type": "code",
   "execution_count": null,
   "id": "CF9A0cSVV31d",
   "metadata": {
    "colab": {
     "base_uri": "https://localhost:8080/",
     "height": 642
    },
    "executionInfo": {
     "elapsed": 450,
     "status": "ok",
     "timestamp": 1678223527044,
     "user": {
      "displayName": "Bharani J",
      "userId": "03739191526649718307"
     },
     "user_tz": -330
    },
    "id": "CF9A0cSVV31d",
    "outputId": "fe784c39-60c5-4634-d343-4bbede338d79"
   },
   "outputs": [
    {
     "data": {
      "text/html": [
       "\n",
       "  <div id=\"df-43bd9b62-40e8-48f4-8085-6bae7c69a3c1\">\n",
       "    <div class=\"colab-df-container\">\n",
       "      <div>\n",
       "<style scoped>\n",
       "    .dataframe tbody tr th:only-of-type {\n",
       "        vertical-align: middle;\n",
       "    }\n",
       "\n",
       "    .dataframe tbody tr th {\n",
       "        vertical-align: top;\n",
       "    }\n",
       "\n",
       "    .dataframe thead th {\n",
       "        text-align: right;\n",
       "    }\n",
       "</style>\n",
       "<table border=\"1\" class=\"dataframe\">\n",
       "  <thead>\n",
       "    <tr style=\"text-align: right;\">\n",
       "      <th></th>\n",
       "      <th>home</th>\n",
       "      <th>away</th>\n",
       "      <th>date</th>\n",
       "      <th>season</th>\n",
       "      <th>venue</th>\n",
       "      <th>type</th>\n",
       "      <th>toss</th>\n",
       "      <th>winner</th>\n",
       "      <th>man_of_match</th>\n",
       "      <th>points</th>\n",
       "    </tr>\n",
       "  </thead>\n",
       "  <tbody>\n",
       "    <tr>\n",
       "      <th>0</th>\n",
       "      <td>Chennai Super Kings</td>\n",
       "      <td>Mumbai Indians</td>\n",
       "      <td>4th April, 2012</td>\n",
       "      <td>2012 - 1st Match</td>\n",
       "      <td>MA Chidambaram Stadium, Chennai</td>\n",
       "      <td>20 Overs, Day/Night Match</td>\n",
       "      <td>Mumbai Indians won the toss and elected to field</td>\n",
       "      <td>Mumbai Indians won by 8 wickets</td>\n",
       "      <td>Richard Levi</td>\n",
       "      <td>None</td>\n",
       "    </tr>\n",
       "    <tr>\n",
       "      <th>1</th>\n",
       "      <td>Kolkata Knight Riders</td>\n",
       "      <td>Delhi Daredevils</td>\n",
       "      <td>5th April, 2012</td>\n",
       "      <td>2012 - 2nd Match</td>\n",
       "      <td>Eden Gardens, Kolkata</td>\n",
       "      <td>20 Overs, Day/Night Match</td>\n",
       "      <td>Delhi Daredevils won the toss and elected to f...</td>\n",
       "      <td>Delhi Daredevils won by 8 wickets</td>\n",
       "      <td>Irfan Pathan</td>\n",
       "      <td>Delhi Daredevils 2, Kolkata Knight Riders 0</td>\n",
       "    </tr>\n",
       "    <tr>\n",
       "      <th>2</th>\n",
       "      <td>Mumbai Indians</td>\n",
       "      <td>Pune Warriors</td>\n",
       "      <td>6th April, 2012</td>\n",
       "      <td>2012 - 3rd Match</td>\n",
       "      <td>Wankhede Stadium, Mumbai</td>\n",
       "      <td>20 Overs, Day/Night Match</td>\n",
       "      <td>Mumbai Indians won the toss and elected to field</td>\n",
       "      <td>Pune Warriors won by 28 runs</td>\n",
       "      <td>Steve Smith</td>\n",
       "      <td>None</td>\n",
       "    </tr>\n",
       "    <tr>\n",
       "      <th>3</th>\n",
       "      <td>Rajasthan Royals</td>\n",
       "      <td>Kings XI Punjab</td>\n",
       "      <td>6th April, 2012</td>\n",
       "      <td>2012 - 4th Match</td>\n",
       "      <td>Sawai Mansingh Stadium, Jaipur</td>\n",
       "      <td>20 Overs, Day/Night Match</td>\n",
       "      <td>Kings XI Punjab won the toss and elected to field</td>\n",
       "      <td>Rajasthan Royals won by 31 runs</td>\n",
       "      <td>Ajinkya Rahane</td>\n",
       "      <td>None</td>\n",
       "    </tr>\n",
       "    <tr>\n",
       "      <th>4</th>\n",
       "      <td>Royal Challengers Bangalore</td>\n",
       "      <td>Delhi Daredevils</td>\n",
       "      <td>7th April, 2012</td>\n",
       "      <td>2012 - 5th Match</td>\n",
       "      <td>M Chinnaswamy Stadium, Bengaluru, Bangalore</td>\n",
       "      <td>20 Overs, Day/Night Match</td>\n",
       "      <td>Delhi Daredevils won the toss and elected to f...</td>\n",
       "      <td>Royal Challengers Bangalore won by 20 runs</td>\n",
       "      <td>AB de Villiers</td>\n",
       "      <td>None</td>\n",
       "    </tr>\n",
       "    <tr>\n",
       "      <th>...</th>\n",
       "      <td>...</td>\n",
       "      <td>...</td>\n",
       "      <td>...</td>\n",
       "      <td>...</td>\n",
       "      <td>...</td>\n",
       "      <td>...</td>\n",
       "      <td>...</td>\n",
       "      <td>...</td>\n",
       "      <td>...</td>\n",
       "      <td>...</td>\n",
       "    </tr>\n",
       "    <tr>\n",
       "      <th>953</th>\n",
       "      <td>Kolkata Knight Riders</td>\n",
       "      <td>Mumbai Indians</td>\n",
       "      <td>22nd May, 2011</td>\n",
       "      <td>2011 - 70th Match</td>\n",
       "      <td>Eden Gardens, Kolkata</td>\n",
       "      <td>20 Overs, Day/Night Match</td>\n",
       "      <td>Mumbai Indians won the toss and elected to field</td>\n",
       "      <td>Mumbai Indians won by 5 wickets</td>\n",
       "      <td>James Franklin</td>\n",
       "      <td>None</td>\n",
       "    </tr>\n",
       "    <tr>\n",
       "      <th>954</th>\n",
       "      <td>Royal Challengers Bangalore</td>\n",
       "      <td>Chennai Super Kings</td>\n",
       "      <td>24th May, 2011</td>\n",
       "      <td>2011 - 1st Qualifying Final</td>\n",
       "      <td>Wankhede Stadium, Mumbai</td>\n",
       "      <td>20 Overs, Day/Night Match</td>\n",
       "      <td>Chennai Super Kings won the toss and elected t...</td>\n",
       "      <td>Chennai Super Kings won by 6 wickets</td>\n",
       "      <td>Suresh Raina</td>\n",
       "      <td>None</td>\n",
       "    </tr>\n",
       "    <tr>\n",
       "      <th>955</th>\n",
       "      <td>Kolkata Knight Riders</td>\n",
       "      <td>Mumbai Indians</td>\n",
       "      <td>25th May, 2011</td>\n",
       "      <td>2011 - Elimination Final</td>\n",
       "      <td>Wankhede Stadium, Mumbai</td>\n",
       "      <td>20 Overs, Day/Night Match</td>\n",
       "      <td>Mumbai Indians won the toss and elected to field</td>\n",
       "      <td>Mumbai Indians won by 4 wickets</td>\n",
       "      <td>Munaf Patel</td>\n",
       "      <td>None</td>\n",
       "    </tr>\n",
       "    <tr>\n",
       "      <th>956</th>\n",
       "      <td>Royal Challengers Bangalore</td>\n",
       "      <td>Mumbai Indians</td>\n",
       "      <td>27th May, 2011</td>\n",
       "      <td>2011 - 2nd Qualifying Final</td>\n",
       "      <td>MA Chidambaram Stadium, Chennai</td>\n",
       "      <td>20 Overs, Day/Night Match</td>\n",
       "      <td>Mumbai Indians won the toss and elected to field</td>\n",
       "      <td>Royal Challengers Bangalore won by 43 runs</td>\n",
       "      <td>Chris Gayle</td>\n",
       "      <td>None</td>\n",
       "    </tr>\n",
       "    <tr>\n",
       "      <th>957</th>\n",
       "      <td>Chennai Super Kings</td>\n",
       "      <td>Royal Challengers Bangalore</td>\n",
       "      <td>28th May, 2011</td>\n",
       "      <td>2011 - Final</td>\n",
       "      <td>MA Chidambaram Stadium, Chennai</td>\n",
       "      <td>20 Overs, Day/Night Match</td>\n",
       "      <td>Chennai Super Kings won the toss and elected t...</td>\n",
       "      <td>Chennai Super Kings won by 58 runs</td>\n",
       "      <td>Murali Vijay</td>\n",
       "      <td>None</td>\n",
       "    </tr>\n",
       "  </tbody>\n",
       "</table>\n",
       "<p>958 rows × 10 columns</p>\n",
       "</div>\n",
       "      <button class=\"colab-df-convert\" onclick=\"convertToInteractive('df-43bd9b62-40e8-48f4-8085-6bae7c69a3c1')\"\n",
       "              title=\"Convert this dataframe to an interactive table.\"\n",
       "              style=\"display:none;\">\n",
       "        \n",
       "  <svg xmlns=\"http://www.w3.org/2000/svg\" height=\"24px\"viewBox=\"0 0 24 24\"\n",
       "       width=\"24px\">\n",
       "    <path d=\"M0 0h24v24H0V0z\" fill=\"none\"/>\n",
       "    <path d=\"M18.56 5.44l.94 2.06.94-2.06 2.06-.94-2.06-.94-.94-2.06-.94 2.06-2.06.94zm-11 1L8.5 8.5l.94-2.06 2.06-.94-2.06-.94L8.5 2.5l-.94 2.06-2.06.94zm10 10l.94 2.06.94-2.06 2.06-.94-2.06-.94-.94-2.06-.94 2.06-2.06.94z\"/><path d=\"M17.41 7.96l-1.37-1.37c-.4-.4-.92-.59-1.43-.59-.52 0-1.04.2-1.43.59L10.3 9.45l-7.72 7.72c-.78.78-.78 2.05 0 2.83L4 21.41c.39.39.9.59 1.41.59.51 0 1.02-.2 1.41-.59l7.78-7.78 2.81-2.81c.8-.78.8-2.07 0-2.86zM5.41 20L4 18.59l7.72-7.72 1.47 1.35L5.41 20z\"/>\n",
       "  </svg>\n",
       "      </button>\n",
       "      \n",
       "  <style>\n",
       "    .colab-df-container {\n",
       "      display:flex;\n",
       "      flex-wrap:wrap;\n",
       "      gap: 12px;\n",
       "    }\n",
       "\n",
       "    .colab-df-convert {\n",
       "      background-color: #E8F0FE;\n",
       "      border: none;\n",
       "      border-radius: 50%;\n",
       "      cursor: pointer;\n",
       "      display: none;\n",
       "      fill: #1967D2;\n",
       "      height: 32px;\n",
       "      padding: 0 0 0 0;\n",
       "      width: 32px;\n",
       "    }\n",
       "\n",
       "    .colab-df-convert:hover {\n",
       "      background-color: #E2EBFA;\n",
       "      box-shadow: 0px 1px 2px rgba(60, 64, 67, 0.3), 0px 1px 3px 1px rgba(60, 64, 67, 0.15);\n",
       "      fill: #174EA6;\n",
       "    }\n",
       "\n",
       "    [theme=dark] .colab-df-convert {\n",
       "      background-color: #3B4455;\n",
       "      fill: #D2E3FC;\n",
       "    }\n",
       "\n",
       "    [theme=dark] .colab-df-convert:hover {\n",
       "      background-color: #434B5C;\n",
       "      box-shadow: 0px 1px 3px 1px rgba(0, 0, 0, 0.15);\n",
       "      filter: drop-shadow(0px 1px 2px rgba(0, 0, 0, 0.3));\n",
       "      fill: #FFFFFF;\n",
       "    }\n",
       "  </style>\n",
       "\n",
       "      <script>\n",
       "        const buttonEl =\n",
       "          document.querySelector('#df-43bd9b62-40e8-48f4-8085-6bae7c69a3c1 button.colab-df-convert');\n",
       "        buttonEl.style.display =\n",
       "          google.colab.kernel.accessAllowed ? 'block' : 'none';\n",
       "\n",
       "        async function convertToInteractive(key) {\n",
       "          const element = document.querySelector('#df-43bd9b62-40e8-48f4-8085-6bae7c69a3c1');\n",
       "          const dataTable =\n",
       "            await google.colab.kernel.invokeFunction('convertToInteractive',\n",
       "                                                     [key], {});\n",
       "          if (!dataTable) return;\n",
       "\n",
       "          const docLinkHtml = 'Like what you see? Visit the ' +\n",
       "            '<a target=\"_blank\" href=https://colab.research.google.com/notebooks/data_table.ipynb>data table notebook</a>'\n",
       "            + ' to learn more about interactive tables.';\n",
       "          element.innerHTML = '';\n",
       "          dataTable['output_type'] = 'display_data';\n",
       "          await google.colab.output.renderOutput(dataTable, element);\n",
       "          const docLink = document.createElement('div');\n",
       "          docLink.innerHTML = docLinkHtml;\n",
       "          element.appendChild(docLink);\n",
       "        }\n",
       "      </script>\n",
       "    </div>\n",
       "  </div>\n",
       "  "
      ],
      "text/plain": [
       "                            home                         away  \\\n",
       "0            Chennai Super Kings               Mumbai Indians   \n",
       "1          Kolkata Knight Riders             Delhi Daredevils   \n",
       "2                 Mumbai Indians                Pune Warriors   \n",
       "3               Rajasthan Royals              Kings XI Punjab   \n",
       "4    Royal Challengers Bangalore             Delhi Daredevils   \n",
       "..                           ...                          ...   \n",
       "953        Kolkata Knight Riders               Mumbai Indians   \n",
       "954  Royal Challengers Bangalore          Chennai Super Kings   \n",
       "955        Kolkata Knight Riders               Mumbai Indians   \n",
       "956  Royal Challengers Bangalore               Mumbai Indians   \n",
       "957          Chennai Super Kings  Royal Challengers Bangalore   \n",
       "\n",
       "                date                       season  \\\n",
       "0    4th April, 2012             2012 - 1st Match   \n",
       "1    5th April, 2012             2012 - 2nd Match   \n",
       "2    6th April, 2012             2012 - 3rd Match   \n",
       "3    6th April, 2012             2012 - 4th Match   \n",
       "4    7th April, 2012             2012 - 5th Match   \n",
       "..               ...                          ...   \n",
       "953   22nd May, 2011            2011 - 70th Match   \n",
       "954   24th May, 2011  2011 - 1st Qualifying Final   \n",
       "955   25th May, 2011     2011 - Elimination Final   \n",
       "956   27th May, 2011  2011 - 2nd Qualifying Final   \n",
       "957   28th May, 2011                 2011 - Final   \n",
       "\n",
       "                                           venue                       type  \\\n",
       "0                MA Chidambaram Stadium, Chennai  20 Overs, Day/Night Match   \n",
       "1                          Eden Gardens, Kolkata  20 Overs, Day/Night Match   \n",
       "2                       Wankhede Stadium, Mumbai  20 Overs, Day/Night Match   \n",
       "3                 Sawai Mansingh Stadium, Jaipur  20 Overs, Day/Night Match   \n",
       "4    M Chinnaswamy Stadium, Bengaluru, Bangalore  20 Overs, Day/Night Match   \n",
       "..                                           ...                        ...   \n",
       "953                        Eden Gardens, Kolkata  20 Overs, Day/Night Match   \n",
       "954                     Wankhede Stadium, Mumbai  20 Overs, Day/Night Match   \n",
       "955                     Wankhede Stadium, Mumbai  20 Overs, Day/Night Match   \n",
       "956              MA Chidambaram Stadium, Chennai  20 Overs, Day/Night Match   \n",
       "957              MA Chidambaram Stadium, Chennai  20 Overs, Day/Night Match   \n",
       "\n",
       "                                                  toss  \\\n",
       "0     Mumbai Indians won the toss and elected to field   \n",
       "1    Delhi Daredevils won the toss and elected to f...   \n",
       "2     Mumbai Indians won the toss and elected to field   \n",
       "3    Kings XI Punjab won the toss and elected to field   \n",
       "4    Delhi Daredevils won the toss and elected to f...   \n",
       "..                                                 ...   \n",
       "953   Mumbai Indians won the toss and elected to field   \n",
       "954  Chennai Super Kings won the toss and elected t...   \n",
       "955   Mumbai Indians won the toss and elected to field   \n",
       "956   Mumbai Indians won the toss and elected to field   \n",
       "957  Chennai Super Kings won the toss and elected t...   \n",
       "\n",
       "                                         winner    man_of_match  \\\n",
       "0               Mumbai Indians won by 8 wickets    Richard Levi   \n",
       "1             Delhi Daredevils won by 8 wickets    Irfan Pathan   \n",
       "2                  Pune Warriors won by 28 runs     Steve Smith   \n",
       "3               Rajasthan Royals won by 31 runs  Ajinkya Rahane   \n",
       "4    Royal Challengers Bangalore won by 20 runs  AB de Villiers   \n",
       "..                                          ...             ...   \n",
       "953             Mumbai Indians won by 5 wickets  James Franklin   \n",
       "954        Chennai Super Kings won by 6 wickets    Suresh Raina   \n",
       "955             Mumbai Indians won by 4 wickets     Munaf Patel   \n",
       "956  Royal Challengers Bangalore won by 43 runs     Chris Gayle   \n",
       "957          Chennai Super Kings won by 58 runs    Murali Vijay   \n",
       "\n",
       "                                          points  \n",
       "0                                           None  \n",
       "1    Delhi Daredevils 2, Kolkata Knight Riders 0  \n",
       "2                                           None  \n",
       "3                                           None  \n",
       "4                                           None  \n",
       "..                                           ...  \n",
       "953                                         None  \n",
       "954                                         None  \n",
       "955                                         None  \n",
       "956                                         None  \n",
       "957                                         None  \n",
       "\n",
       "[958 rows x 10 columns]"
      ]
     },
     "execution_count": 222,
     "metadata": {},
     "output_type": "execute_result"
    }
   ],
   "source": [
    "df"
   ]
  },
  {
   "cell_type": "code",
   "execution_count": null,
   "id": "JlxVslA86zZp",
   "metadata": {
    "colab": {
     "base_uri": "https://localhost:8080/"
    },
    "executionInfo": {
     "elapsed": 34107,
     "status": "ok",
     "timestamp": 1678359472159,
     "user": {
      "displayName": "Bharani J",
      "userId": "03739191526649718307"
     },
     "user_tz": -330
    },
    "id": "JlxVslA86zZp",
    "outputId": "83cb3935-a5c1-4519-b1e2-6e7f73a7036d"
   },
   "outputs": [
    {
     "name": "stdout",
     "output_type": "stream",
     "text": [
      "Mounted at /content/drive\n"
     ]
    }
   ],
   "source": [
    "from google.colab import drive\n",
    "drive.mount('/content/drive')"
   ]
  },
  {
   "cell_type": "code",
   "execution_count": null,
   "id": "Edb-EeQ2ZtfC",
   "metadata": {
    "colab": {
     "base_uri": "https://localhost:8080/",
     "height": 35
    },
    "executionInfo": {
     "elapsed": 12,
     "status": "ok",
     "timestamp": 1678223612333,
     "user": {
      "displayName": "Bharani J",
      "userId": "03739191526649718307"
     },
     "user_tz": -330
    },
    "id": "Edb-EeQ2ZtfC",
    "outputId": "bdffd7c3-f13b-4250-828b-71cca077ca29"
   },
   "outputs": [
    {
     "data": {
      "application/vnd.google.colaboratory.intrinsic+json": {
       "type": "string"
      },
      "text/plain": [
       "'/content'"
      ]
     },
     "execution_count": 225,
     "metadata": {},
     "output_type": "execute_result"
    }
   ],
   "source": [
    "pwd"
   ]
  },
  {
   "cell_type": "code",
   "execution_count": null,
   "id": "vtRyQBML7BHe",
   "metadata": {
    "colab": {
     "base_uri": "https://localhost:8080/"
    },
    "executionInfo": {
     "elapsed": 10,
     "status": "ok",
     "timestamp": 1678359481776,
     "user": {
      "displayName": "Bharani J",
      "userId": "03739191526649718307"
     },
     "user_tz": -330
    },
    "id": "vtRyQBML7BHe",
    "outputId": "7eca9fbf-8843-411d-b845-44a565f673bc"
   },
   "outputs": [
    {
     "name": "stdout",
     "output_type": "stream",
     "text": [
      "/content/drive/MyDrive/Colab/MIPT/DevOps/Bharani\n"
     ]
    }
   ],
   "source": [
    "cd /content/drive/MyDrive/Colab/MIPT/DevOps/Bharani"
   ]
  },
  {
   "cell_type": "code",
   "execution_count": null,
   "id": "Jx2i3Syh7dkI",
   "metadata": {
    "id": "Jx2i3Syh7dkI"
   },
   "outputs": [],
   "source": [
    "df = pd.read_csv('ipl_data.csv', index_col=[0])"
   ]
  },
  {
   "cell_type": "code",
   "execution_count": null,
   "id": "Dx7nCsgkDFMb",
   "metadata": {
    "colab": {
     "base_uri": "https://localhost:8080/",
     "height": 642
    },
    "executionInfo": {
     "elapsed": 21,
     "status": "ok",
     "timestamp": 1678360394672,
     "user": {
      "displayName": "Bharani J",
      "userId": "03739191526649718307"
     },
     "user_tz": -330
    },
    "id": "Dx7nCsgkDFMb",
    "outputId": "dda4944c-46d7-4fcf-b652-aaf1198f7221"
   },
   "outputs": [
    {
     "data": {
      "text/html": [
       "\n",
       "  <div id=\"df-064c5d6b-3ff1-4940-a300-55a92dccc248\">\n",
       "    <div class=\"colab-df-container\">\n",
       "      <div>\n",
       "<style scoped>\n",
       "    .dataframe tbody tr th:only-of-type {\n",
       "        vertical-align: middle;\n",
       "    }\n",
       "\n",
       "    .dataframe tbody tr th {\n",
       "        vertical-align: top;\n",
       "    }\n",
       "\n",
       "    .dataframe thead th {\n",
       "        text-align: right;\n",
       "    }\n",
       "</style>\n",
       "<table border=\"1\" class=\"dataframe\">\n",
       "  <thead>\n",
       "    <tr style=\"text-align: right;\">\n",
       "      <th></th>\n",
       "      <th>home</th>\n",
       "      <th>away</th>\n",
       "      <th>date</th>\n",
       "      <th>season</th>\n",
       "      <th>venue</th>\n",
       "      <th>type</th>\n",
       "      <th>toss</th>\n",
       "      <th>winner</th>\n",
       "      <th>man_of_match</th>\n",
       "      <th>points</th>\n",
       "    </tr>\n",
       "  </thead>\n",
       "  <tbody>\n",
       "    <tr>\n",
       "      <th>0</th>\n",
       "      <td>Chennai Super Kings</td>\n",
       "      <td>Mumbai Indians</td>\n",
       "      <td>4th April, 2012</td>\n",
       "      <td>2012 - 1st Match</td>\n",
       "      <td>MA Chidambaram Stadium, Chennai</td>\n",
       "      <td>20 Overs, Day/Night Match</td>\n",
       "      <td>Mumbai Indians won the toss and elected to field</td>\n",
       "      <td>Mumbai Indians won by 8 wickets</td>\n",
       "      <td>Richard Levi</td>\n",
       "      <td>NaN</td>\n",
       "    </tr>\n",
       "    <tr>\n",
       "      <th>1</th>\n",
       "      <td>Kolkata Knight Riders</td>\n",
       "      <td>Delhi Daredevils</td>\n",
       "      <td>5th April, 2012</td>\n",
       "      <td>2012 - 2nd Match</td>\n",
       "      <td>Eden Gardens, Kolkata</td>\n",
       "      <td>20 Overs, Day/Night Match</td>\n",
       "      <td>Delhi Daredevils won the toss and elected to f...</td>\n",
       "      <td>Delhi Daredevils won by 8 wickets</td>\n",
       "      <td>Irfan Pathan</td>\n",
       "      <td>Delhi Daredevils 2, Kolkata Knight Riders 0</td>\n",
       "    </tr>\n",
       "    <tr>\n",
       "      <th>2</th>\n",
       "      <td>Mumbai Indians</td>\n",
       "      <td>Pune Warriors</td>\n",
       "      <td>6th April, 2012</td>\n",
       "      <td>2012 - 3rd Match</td>\n",
       "      <td>Wankhede Stadium, Mumbai</td>\n",
       "      <td>20 Overs, Day/Night Match</td>\n",
       "      <td>Mumbai Indians won the toss and elected to field</td>\n",
       "      <td>Pune Warriors won by 28 runs</td>\n",
       "      <td>Steve Smith</td>\n",
       "      <td>NaN</td>\n",
       "    </tr>\n",
       "    <tr>\n",
       "      <th>3</th>\n",
       "      <td>Rajasthan Royals</td>\n",
       "      <td>Kings XI Punjab</td>\n",
       "      <td>6th April, 2012</td>\n",
       "      <td>2012 - 4th Match</td>\n",
       "      <td>Sawai Mansingh Stadium, Jaipur</td>\n",
       "      <td>20 Overs, Day/Night Match</td>\n",
       "      <td>Kings XI Punjab won the toss and elected to field</td>\n",
       "      <td>Rajasthan Royals won by 31 runs</td>\n",
       "      <td>Ajinkya Rahane</td>\n",
       "      <td>NaN</td>\n",
       "    </tr>\n",
       "    <tr>\n",
       "      <th>4</th>\n",
       "      <td>Royal Challengers Bangalore</td>\n",
       "      <td>Delhi Daredevils</td>\n",
       "      <td>7th April, 2012</td>\n",
       "      <td>2012 - 5th Match</td>\n",
       "      <td>M Chinnaswamy Stadium, Bengaluru, Bangalore</td>\n",
       "      <td>20 Overs, Day/Night Match</td>\n",
       "      <td>Delhi Daredevils won the toss and elected to f...</td>\n",
       "      <td>Royal Challengers Bangalore won by 20 runs</td>\n",
       "      <td>AB de Villiers</td>\n",
       "      <td>NaN</td>\n",
       "    </tr>\n",
       "    <tr>\n",
       "      <th>...</th>\n",
       "      <td>...</td>\n",
       "      <td>...</td>\n",
       "      <td>...</td>\n",
       "      <td>...</td>\n",
       "      <td>...</td>\n",
       "      <td>...</td>\n",
       "      <td>...</td>\n",
       "      <td>...</td>\n",
       "      <td>...</td>\n",
       "      <td>...</td>\n",
       "    </tr>\n",
       "    <tr>\n",
       "      <th>953</th>\n",
       "      <td>Kolkata Knight Riders</td>\n",
       "      <td>Mumbai Indians</td>\n",
       "      <td>22nd May, 2011</td>\n",
       "      <td>2011 - 70th Match</td>\n",
       "      <td>Eden Gardens, Kolkata</td>\n",
       "      <td>20 Overs, Day/Night Match</td>\n",
       "      <td>Mumbai Indians won the toss and elected to field</td>\n",
       "      <td>Mumbai Indians won by 5 wickets</td>\n",
       "      <td>James Franklin</td>\n",
       "      <td>NaN</td>\n",
       "    </tr>\n",
       "    <tr>\n",
       "      <th>954</th>\n",
       "      <td>Royal Challengers Bangalore</td>\n",
       "      <td>Chennai Super Kings</td>\n",
       "      <td>24th May, 2011</td>\n",
       "      <td>2011 - 1st Qualifying Final</td>\n",
       "      <td>Wankhede Stadium, Mumbai</td>\n",
       "      <td>20 Overs, Day/Night Match</td>\n",
       "      <td>Chennai Super Kings won the toss and elected t...</td>\n",
       "      <td>Chennai Super Kings won by 6 wickets</td>\n",
       "      <td>Suresh Raina</td>\n",
       "      <td>NaN</td>\n",
       "    </tr>\n",
       "    <tr>\n",
       "      <th>955</th>\n",
       "      <td>Kolkata Knight Riders</td>\n",
       "      <td>Mumbai Indians</td>\n",
       "      <td>25th May, 2011</td>\n",
       "      <td>2011 - Elimination Final</td>\n",
       "      <td>Wankhede Stadium, Mumbai</td>\n",
       "      <td>20 Overs, Day/Night Match</td>\n",
       "      <td>Mumbai Indians won the toss and elected to field</td>\n",
       "      <td>Mumbai Indians won by 4 wickets</td>\n",
       "      <td>Munaf Patel</td>\n",
       "      <td>NaN</td>\n",
       "    </tr>\n",
       "    <tr>\n",
       "      <th>956</th>\n",
       "      <td>Royal Challengers Bangalore</td>\n",
       "      <td>Mumbai Indians</td>\n",
       "      <td>27th May, 2011</td>\n",
       "      <td>2011 - 2nd Qualifying Final</td>\n",
       "      <td>MA Chidambaram Stadium, Chennai</td>\n",
       "      <td>20 Overs, Day/Night Match</td>\n",
       "      <td>Mumbai Indians won the toss and elected to field</td>\n",
       "      <td>Royal Challengers Bangalore won by 43 runs</td>\n",
       "      <td>Chris Gayle</td>\n",
       "      <td>NaN</td>\n",
       "    </tr>\n",
       "    <tr>\n",
       "      <th>957</th>\n",
       "      <td>Chennai Super Kings</td>\n",
       "      <td>Royal Challengers Bangalore</td>\n",
       "      <td>28th May, 2011</td>\n",
       "      <td>2011 - Final</td>\n",
       "      <td>MA Chidambaram Stadium, Chennai</td>\n",
       "      <td>20 Overs, Day/Night Match</td>\n",
       "      <td>Chennai Super Kings won the toss and elected t...</td>\n",
       "      <td>Chennai Super Kings won by 58 runs</td>\n",
       "      <td>Murali Vijay</td>\n",
       "      <td>NaN</td>\n",
       "    </tr>\n",
       "  </tbody>\n",
       "</table>\n",
       "<p>958 rows × 10 columns</p>\n",
       "</div>\n",
       "      <button class=\"colab-df-convert\" onclick=\"convertToInteractive('df-064c5d6b-3ff1-4940-a300-55a92dccc248')\"\n",
       "              title=\"Convert this dataframe to an interactive table.\"\n",
       "              style=\"display:none;\">\n",
       "        \n",
       "  <svg xmlns=\"http://www.w3.org/2000/svg\" height=\"24px\"viewBox=\"0 0 24 24\"\n",
       "       width=\"24px\">\n",
       "    <path d=\"M0 0h24v24H0V0z\" fill=\"none\"/>\n",
       "    <path d=\"M18.56 5.44l.94 2.06.94-2.06 2.06-.94-2.06-.94-.94-2.06-.94 2.06-2.06.94zm-11 1L8.5 8.5l.94-2.06 2.06-.94-2.06-.94L8.5 2.5l-.94 2.06-2.06.94zm10 10l.94 2.06.94-2.06 2.06-.94-2.06-.94-.94-2.06-.94 2.06-2.06.94z\"/><path d=\"M17.41 7.96l-1.37-1.37c-.4-.4-.92-.59-1.43-.59-.52 0-1.04.2-1.43.59L10.3 9.45l-7.72 7.72c-.78.78-.78 2.05 0 2.83L4 21.41c.39.39.9.59 1.41.59.51 0 1.02-.2 1.41-.59l7.78-7.78 2.81-2.81c.8-.78.8-2.07 0-2.86zM5.41 20L4 18.59l7.72-7.72 1.47 1.35L5.41 20z\"/>\n",
       "  </svg>\n",
       "      </button>\n",
       "      \n",
       "  <style>\n",
       "    .colab-df-container {\n",
       "      display:flex;\n",
       "      flex-wrap:wrap;\n",
       "      gap: 12px;\n",
       "    }\n",
       "\n",
       "    .colab-df-convert {\n",
       "      background-color: #E8F0FE;\n",
       "      border: none;\n",
       "      border-radius: 50%;\n",
       "      cursor: pointer;\n",
       "      display: none;\n",
       "      fill: #1967D2;\n",
       "      height: 32px;\n",
       "      padding: 0 0 0 0;\n",
       "      width: 32px;\n",
       "    }\n",
       "\n",
       "    .colab-df-convert:hover {\n",
       "      background-color: #E2EBFA;\n",
       "      box-shadow: 0px 1px 2px rgba(60, 64, 67, 0.3), 0px 1px 3px 1px rgba(60, 64, 67, 0.15);\n",
       "      fill: #174EA6;\n",
       "    }\n",
       "\n",
       "    [theme=dark] .colab-df-convert {\n",
       "      background-color: #3B4455;\n",
       "      fill: #D2E3FC;\n",
       "    }\n",
       "\n",
       "    [theme=dark] .colab-df-convert:hover {\n",
       "      background-color: #434B5C;\n",
       "      box-shadow: 0px 1px 3px 1px rgba(0, 0, 0, 0.15);\n",
       "      filter: drop-shadow(0px 1px 2px rgba(0, 0, 0, 0.3));\n",
       "      fill: #FFFFFF;\n",
       "    }\n",
       "  </style>\n",
       "\n",
       "      <script>\n",
       "        const buttonEl =\n",
       "          document.querySelector('#df-064c5d6b-3ff1-4940-a300-55a92dccc248 button.colab-df-convert');\n",
       "        buttonEl.style.display =\n",
       "          google.colab.kernel.accessAllowed ? 'block' : 'none';\n",
       "\n",
       "        async function convertToInteractive(key) {\n",
       "          const element = document.querySelector('#df-064c5d6b-3ff1-4940-a300-55a92dccc248');\n",
       "          const dataTable =\n",
       "            await google.colab.kernel.invokeFunction('convertToInteractive',\n",
       "                                                     [key], {});\n",
       "          if (!dataTable) return;\n",
       "\n",
       "          const docLinkHtml = 'Like what you see? Visit the ' +\n",
       "            '<a target=\"_blank\" href=https://colab.research.google.com/notebooks/data_table.ipynb>data table notebook</a>'\n",
       "            + ' to learn more about interactive tables.';\n",
       "          element.innerHTML = '';\n",
       "          dataTable['output_type'] = 'display_data';\n",
       "          await google.colab.output.renderOutput(dataTable, element);\n",
       "          const docLink = document.createElement('div');\n",
       "          docLink.innerHTML = docLinkHtml;\n",
       "          element.appendChild(docLink);\n",
       "        }\n",
       "      </script>\n",
       "    </div>\n",
       "  </div>\n",
       "  "
      ],
      "text/plain": [
       "                            home                         away  \\\n",
       "0            Chennai Super Kings               Mumbai Indians   \n",
       "1          Kolkata Knight Riders             Delhi Daredevils   \n",
       "2                 Mumbai Indians                Pune Warriors   \n",
       "3               Rajasthan Royals              Kings XI Punjab   \n",
       "4    Royal Challengers Bangalore             Delhi Daredevils   \n",
       "..                           ...                          ...   \n",
       "953        Kolkata Knight Riders               Mumbai Indians   \n",
       "954  Royal Challengers Bangalore          Chennai Super Kings   \n",
       "955        Kolkata Knight Riders               Mumbai Indians   \n",
       "956  Royal Challengers Bangalore               Mumbai Indians   \n",
       "957          Chennai Super Kings  Royal Challengers Bangalore   \n",
       "\n",
       "                date                       season  \\\n",
       "0    4th April, 2012             2012 - 1st Match   \n",
       "1    5th April, 2012             2012 - 2nd Match   \n",
       "2    6th April, 2012             2012 - 3rd Match   \n",
       "3    6th April, 2012             2012 - 4th Match   \n",
       "4    7th April, 2012             2012 - 5th Match   \n",
       "..               ...                          ...   \n",
       "953   22nd May, 2011            2011 - 70th Match   \n",
       "954   24th May, 2011  2011 - 1st Qualifying Final   \n",
       "955   25th May, 2011     2011 - Elimination Final   \n",
       "956   27th May, 2011  2011 - 2nd Qualifying Final   \n",
       "957   28th May, 2011                 2011 - Final   \n",
       "\n",
       "                                           venue                       type  \\\n",
       "0                MA Chidambaram Stadium, Chennai  20 Overs, Day/Night Match   \n",
       "1                          Eden Gardens, Kolkata  20 Overs, Day/Night Match   \n",
       "2                       Wankhede Stadium, Mumbai  20 Overs, Day/Night Match   \n",
       "3                 Sawai Mansingh Stadium, Jaipur  20 Overs, Day/Night Match   \n",
       "4    M Chinnaswamy Stadium, Bengaluru, Bangalore  20 Overs, Day/Night Match   \n",
       "..                                           ...                        ...   \n",
       "953                        Eden Gardens, Kolkata  20 Overs, Day/Night Match   \n",
       "954                     Wankhede Stadium, Mumbai  20 Overs, Day/Night Match   \n",
       "955                     Wankhede Stadium, Mumbai  20 Overs, Day/Night Match   \n",
       "956              MA Chidambaram Stadium, Chennai  20 Overs, Day/Night Match   \n",
       "957              MA Chidambaram Stadium, Chennai  20 Overs, Day/Night Match   \n",
       "\n",
       "                                                  toss  \\\n",
       "0     Mumbai Indians won the toss and elected to field   \n",
       "1    Delhi Daredevils won the toss and elected to f...   \n",
       "2     Mumbai Indians won the toss and elected to field   \n",
       "3    Kings XI Punjab won the toss and elected to field   \n",
       "4    Delhi Daredevils won the toss and elected to f...   \n",
       "..                                                 ...   \n",
       "953   Mumbai Indians won the toss and elected to field   \n",
       "954  Chennai Super Kings won the toss and elected t...   \n",
       "955   Mumbai Indians won the toss and elected to field   \n",
       "956   Mumbai Indians won the toss and elected to field   \n",
       "957  Chennai Super Kings won the toss and elected t...   \n",
       "\n",
       "                                         winner    man_of_match  \\\n",
       "0               Mumbai Indians won by 8 wickets    Richard Levi   \n",
       "1             Delhi Daredevils won by 8 wickets    Irfan Pathan   \n",
       "2                  Pune Warriors won by 28 runs     Steve Smith   \n",
       "3               Rajasthan Royals won by 31 runs  Ajinkya Rahane   \n",
       "4    Royal Challengers Bangalore won by 20 runs  AB de Villiers   \n",
       "..                                          ...             ...   \n",
       "953             Mumbai Indians won by 5 wickets  James Franklin   \n",
       "954        Chennai Super Kings won by 6 wickets    Suresh Raina   \n",
       "955             Mumbai Indians won by 4 wickets     Munaf Patel   \n",
       "956  Royal Challengers Bangalore won by 43 runs     Chris Gayle   \n",
       "957          Chennai Super Kings won by 58 runs    Murali Vijay   \n",
       "\n",
       "                                          points  \n",
       "0                                            NaN  \n",
       "1    Delhi Daredevils 2, Kolkata Knight Riders 0  \n",
       "2                                            NaN  \n",
       "3                                            NaN  \n",
       "4                                            NaN  \n",
       "..                                           ...  \n",
       "953                                          NaN  \n",
       "954                                          NaN  \n",
       "955                                          NaN  \n",
       "956                                          NaN  \n",
       "957                                          NaN  \n",
       "\n",
       "[958 rows x 10 columns]"
      ]
     },
     "execution_count": 37,
     "metadata": {},
     "output_type": "execute_result"
    }
   ],
   "source": [
    "df"
   ]
  },
  {
   "cell_type": "code",
   "execution_count": null,
   "id": "-bQaSmQNCMSA",
   "metadata": {
    "id": "-bQaSmQNCMSA"
   },
   "outputs": [],
   "source": [
    "winner = lambda x: x.partition(' won')[0]\n",
    "toss = lambda x: x.partition(' won')[0]\n",
    "type_of_match = lambda x:x.partition(', ')[2]\n",
    "change_season = lambda x: 'league' if 'Match' in x else 'knockout'"
   ]
  },
  {
   "cell_type": "code",
   "execution_count": null,
   "id": "ECIdgtBn8U1N",
   "metadata": {
    "colab": {
     "base_uri": "https://localhost:8080/",
     "height": 424
    },
    "executionInfo": {
     "elapsed": 521,
     "status": "ok",
     "timestamp": 1678362048104,
     "user": {
      "displayName": "Bharani J",
      "userId": "03739191526649718307"
     },
     "user_tz": -330
    },
    "id": "ECIdgtBn8U1N",
    "outputId": "03acb232-08b9-4462-9902-2ec5785c9424"
   },
   "outputs": [
    {
     "data": {
      "text/html": [
       "\n",
       "  <div id=\"df-4efe498c-0827-4d53-8d49-1738d7eed06e\">\n",
       "    <div class=\"colab-df-container\">\n",
       "      <div>\n",
       "<style scoped>\n",
       "    .dataframe tbody tr th:only-of-type {\n",
       "        vertical-align: middle;\n",
       "    }\n",
       "\n",
       "    .dataframe tbody tr th {\n",
       "        vertical-align: top;\n",
       "    }\n",
       "\n",
       "    .dataframe thead th {\n",
       "        text-align: right;\n",
       "    }\n",
       "</style>\n",
       "<table border=\"1\" class=\"dataframe\">\n",
       "  <thead>\n",
       "    <tr style=\"text-align: right;\">\n",
       "      <th></th>\n",
       "      <th>home</th>\n",
       "      <th>away</th>\n",
       "      <th>date</th>\n",
       "      <th>match_type</th>\n",
       "      <th>venue</th>\n",
       "      <th>time_of_match</th>\n",
       "      <th>toss</th>\n",
       "      <th>winner</th>\n",
       "      <th>man_of_match</th>\n",
       "      <th>outcome</th>\n",
       "    </tr>\n",
       "  </thead>\n",
       "  <tbody>\n",
       "    <tr>\n",
       "      <th>0</th>\n",
       "      <td>Chennai Super Kings</td>\n",
       "      <td>Mumbai Indians</td>\n",
       "      <td>4th April, 2012</td>\n",
       "      <td>league</td>\n",
       "      <td>MA Chidambaram Stadium, Chennai</td>\n",
       "      <td>Day/Night Match</td>\n",
       "      <td>Mumbai Indians</td>\n",
       "      <td>Mumbai Indians</td>\n",
       "      <td>Richard Levi</td>\n",
       "      <td>0</td>\n",
       "    </tr>\n",
       "    <tr>\n",
       "      <th>1</th>\n",
       "      <td>Kolkata Knight Riders</td>\n",
       "      <td>Delhi Daredevils</td>\n",
       "      <td>5th April, 2012</td>\n",
       "      <td>league</td>\n",
       "      <td>Eden Gardens, Kolkata</td>\n",
       "      <td>Day/Night Match</td>\n",
       "      <td>Delhi Daredevils</td>\n",
       "      <td>Delhi Daredevils</td>\n",
       "      <td>Irfan Pathan</td>\n",
       "      <td>0</td>\n",
       "    </tr>\n",
       "    <tr>\n",
       "      <th>2</th>\n",
       "      <td>Mumbai Indians</td>\n",
       "      <td>Pune Warriors</td>\n",
       "      <td>6th April, 2012</td>\n",
       "      <td>league</td>\n",
       "      <td>Wankhede Stadium, Mumbai</td>\n",
       "      <td>Day/Night Match</td>\n",
       "      <td>Mumbai Indians</td>\n",
       "      <td>Pune Warriors</td>\n",
       "      <td>Steve Smith</td>\n",
       "      <td>0</td>\n",
       "    </tr>\n",
       "    <tr>\n",
       "      <th>3</th>\n",
       "      <td>Rajasthan Royals</td>\n",
       "      <td>Kings XI Punjab</td>\n",
       "      <td>6th April, 2012</td>\n",
       "      <td>league</td>\n",
       "      <td>Sawai Mansingh Stadium, Jaipur</td>\n",
       "      <td>Day/Night Match</td>\n",
       "      <td>Kings XI Punjab</td>\n",
       "      <td>Rajasthan Royals</td>\n",
       "      <td>Ajinkya Rahane</td>\n",
       "      <td>1</td>\n",
       "    </tr>\n",
       "    <tr>\n",
       "      <th>4</th>\n",
       "      <td>Royal Challengers Bangalore</td>\n",
       "      <td>Delhi Daredevils</td>\n",
       "      <td>7th April, 2012</td>\n",
       "      <td>league</td>\n",
       "      <td>M Chinnaswamy Stadium, Bengaluru, Bangalore</td>\n",
       "      <td>Day/Night Match</td>\n",
       "      <td>Delhi Daredevils</td>\n",
       "      <td>Royal Challengers Bangalore</td>\n",
       "      <td>AB de Villiers</td>\n",
       "      <td>1</td>\n",
       "    </tr>\n",
       "    <tr>\n",
       "      <th>...</th>\n",
       "      <td>...</td>\n",
       "      <td>...</td>\n",
       "      <td>...</td>\n",
       "      <td>...</td>\n",
       "      <td>...</td>\n",
       "      <td>...</td>\n",
       "      <td>...</td>\n",
       "      <td>...</td>\n",
       "      <td>...</td>\n",
       "      <td>...</td>\n",
       "    </tr>\n",
       "    <tr>\n",
       "      <th>953</th>\n",
       "      <td>Kolkata Knight Riders</td>\n",
       "      <td>Mumbai Indians</td>\n",
       "      <td>22nd May, 2011</td>\n",
       "      <td>league</td>\n",
       "      <td>Eden Gardens, Kolkata</td>\n",
       "      <td>Day/Night Match</td>\n",
       "      <td>Mumbai Indians</td>\n",
       "      <td>Mumbai Indians</td>\n",
       "      <td>James Franklin</td>\n",
       "      <td>0</td>\n",
       "    </tr>\n",
       "    <tr>\n",
       "      <th>954</th>\n",
       "      <td>Royal Challengers Bangalore</td>\n",
       "      <td>Chennai Super Kings</td>\n",
       "      <td>24th May, 2011</td>\n",
       "      <td>knockout</td>\n",
       "      <td>Wankhede Stadium, Mumbai</td>\n",
       "      <td>Day/Night Match</td>\n",
       "      <td>Chennai Super Kings</td>\n",
       "      <td>Chennai Super Kings</td>\n",
       "      <td>Suresh Raina</td>\n",
       "      <td>0</td>\n",
       "    </tr>\n",
       "    <tr>\n",
       "      <th>955</th>\n",
       "      <td>Kolkata Knight Riders</td>\n",
       "      <td>Mumbai Indians</td>\n",
       "      <td>25th May, 2011</td>\n",
       "      <td>knockout</td>\n",
       "      <td>Wankhede Stadium, Mumbai</td>\n",
       "      <td>Day/Night Match</td>\n",
       "      <td>Mumbai Indians</td>\n",
       "      <td>Mumbai Indians</td>\n",
       "      <td>Munaf Patel</td>\n",
       "      <td>0</td>\n",
       "    </tr>\n",
       "    <tr>\n",
       "      <th>956</th>\n",
       "      <td>Royal Challengers Bangalore</td>\n",
       "      <td>Mumbai Indians</td>\n",
       "      <td>27th May, 2011</td>\n",
       "      <td>knockout</td>\n",
       "      <td>MA Chidambaram Stadium, Chennai</td>\n",
       "      <td>Day/Night Match</td>\n",
       "      <td>Mumbai Indians</td>\n",
       "      <td>Royal Challengers Bangalore</td>\n",
       "      <td>Chris Gayle</td>\n",
       "      <td>1</td>\n",
       "    </tr>\n",
       "    <tr>\n",
       "      <th>957</th>\n",
       "      <td>Chennai Super Kings</td>\n",
       "      <td>Royal Challengers Bangalore</td>\n",
       "      <td>28th May, 2011</td>\n",
       "      <td>knockout</td>\n",
       "      <td>MA Chidambaram Stadium, Chennai</td>\n",
       "      <td>Day/Night Match</td>\n",
       "      <td>Chennai Super Kings</td>\n",
       "      <td>Chennai Super Kings</td>\n",
       "      <td>Murali Vijay</td>\n",
       "      <td>1</td>\n",
       "    </tr>\n",
       "  </tbody>\n",
       "</table>\n",
       "<p>958 rows × 10 columns</p>\n",
       "</div>\n",
       "      <button class=\"colab-df-convert\" onclick=\"convertToInteractive('df-4efe498c-0827-4d53-8d49-1738d7eed06e')\"\n",
       "              title=\"Convert this dataframe to an interactive table.\"\n",
       "              style=\"display:none;\">\n",
       "        \n",
       "  <svg xmlns=\"http://www.w3.org/2000/svg\" height=\"24px\"viewBox=\"0 0 24 24\"\n",
       "       width=\"24px\">\n",
       "    <path d=\"M0 0h24v24H0V0z\" fill=\"none\"/>\n",
       "    <path d=\"M18.56 5.44l.94 2.06.94-2.06 2.06-.94-2.06-.94-.94-2.06-.94 2.06-2.06.94zm-11 1L8.5 8.5l.94-2.06 2.06-.94-2.06-.94L8.5 2.5l-.94 2.06-2.06.94zm10 10l.94 2.06.94-2.06 2.06-.94-2.06-.94-.94-2.06-.94 2.06-2.06.94z\"/><path d=\"M17.41 7.96l-1.37-1.37c-.4-.4-.92-.59-1.43-.59-.52 0-1.04.2-1.43.59L10.3 9.45l-7.72 7.72c-.78.78-.78 2.05 0 2.83L4 21.41c.39.39.9.59 1.41.59.51 0 1.02-.2 1.41-.59l7.78-7.78 2.81-2.81c.8-.78.8-2.07 0-2.86zM5.41 20L4 18.59l7.72-7.72 1.47 1.35L5.41 20z\"/>\n",
       "  </svg>\n",
       "      </button>\n",
       "      \n",
       "  <style>\n",
       "    .colab-df-container {\n",
       "      display:flex;\n",
       "      flex-wrap:wrap;\n",
       "      gap: 12px;\n",
       "    }\n",
       "\n",
       "    .colab-df-convert {\n",
       "      background-color: #E8F0FE;\n",
       "      border: none;\n",
       "      border-radius: 50%;\n",
       "      cursor: pointer;\n",
       "      display: none;\n",
       "      fill: #1967D2;\n",
       "      height: 32px;\n",
       "      padding: 0 0 0 0;\n",
       "      width: 32px;\n",
       "    }\n",
       "\n",
       "    .colab-df-convert:hover {\n",
       "      background-color: #E2EBFA;\n",
       "      box-shadow: 0px 1px 2px rgba(60, 64, 67, 0.3), 0px 1px 3px 1px rgba(60, 64, 67, 0.15);\n",
       "      fill: #174EA6;\n",
       "    }\n",
       "\n",
       "    [theme=dark] .colab-df-convert {\n",
       "      background-color: #3B4455;\n",
       "      fill: #D2E3FC;\n",
       "    }\n",
       "\n",
       "    [theme=dark] .colab-df-convert:hover {\n",
       "      background-color: #434B5C;\n",
       "      box-shadow: 0px 1px 3px 1px rgba(0, 0, 0, 0.15);\n",
       "      filter: drop-shadow(0px 1px 2px rgba(0, 0, 0, 0.3));\n",
       "      fill: #FFFFFF;\n",
       "    }\n",
       "  </style>\n",
       "\n",
       "      <script>\n",
       "        const buttonEl =\n",
       "          document.querySelector('#df-4efe498c-0827-4d53-8d49-1738d7eed06e button.colab-df-convert');\n",
       "        buttonEl.style.display =\n",
       "          google.colab.kernel.accessAllowed ? 'block' : 'none';\n",
       "\n",
       "        async function convertToInteractive(key) {\n",
       "          const element = document.querySelector('#df-4efe498c-0827-4d53-8d49-1738d7eed06e');\n",
       "          const dataTable =\n",
       "            await google.colab.kernel.invokeFunction('convertToInteractive',\n",
       "                                                     [key], {});\n",
       "          if (!dataTable) return;\n",
       "\n",
       "          const docLinkHtml = 'Like what you see? Visit the ' +\n",
       "            '<a target=\"_blank\" href=https://colab.research.google.com/notebooks/data_table.ipynb>data table notebook</a>'\n",
       "            + ' to learn more about interactive tables.';\n",
       "          element.innerHTML = '';\n",
       "          dataTable['output_type'] = 'display_data';\n",
       "          await google.colab.output.renderOutput(dataTable, element);\n",
       "          const docLink = document.createElement('div');\n",
       "          docLink.innerHTML = docLinkHtml;\n",
       "          element.appendChild(docLink);\n",
       "        }\n",
       "      </script>\n",
       "    </div>\n",
       "  </div>\n",
       "  "
      ],
      "text/plain": [
       "                            home                         away  \\\n",
       "0            Chennai Super Kings               Mumbai Indians   \n",
       "1          Kolkata Knight Riders             Delhi Daredevils   \n",
       "2                 Mumbai Indians                Pune Warriors   \n",
       "3               Rajasthan Royals              Kings XI Punjab   \n",
       "4    Royal Challengers Bangalore             Delhi Daredevils   \n",
       "..                           ...                          ...   \n",
       "953        Kolkata Knight Riders               Mumbai Indians   \n",
       "954  Royal Challengers Bangalore          Chennai Super Kings   \n",
       "955        Kolkata Knight Riders               Mumbai Indians   \n",
       "956  Royal Challengers Bangalore               Mumbai Indians   \n",
       "957          Chennai Super Kings  Royal Challengers Bangalore   \n",
       "\n",
       "                date match_type                                        venue  \\\n",
       "0    4th April, 2012     league              MA Chidambaram Stadium, Chennai   \n",
       "1    5th April, 2012     league                        Eden Gardens, Kolkata   \n",
       "2    6th April, 2012     league                     Wankhede Stadium, Mumbai   \n",
       "3    6th April, 2012     league               Sawai Mansingh Stadium, Jaipur   \n",
       "4    7th April, 2012     league  M Chinnaswamy Stadium, Bengaluru, Bangalore   \n",
       "..               ...        ...                                          ...   \n",
       "953   22nd May, 2011     league                        Eden Gardens, Kolkata   \n",
       "954   24th May, 2011   knockout                     Wankhede Stadium, Mumbai   \n",
       "955   25th May, 2011   knockout                     Wankhede Stadium, Mumbai   \n",
       "956   27th May, 2011   knockout              MA Chidambaram Stadium, Chennai   \n",
       "957   28th May, 2011   knockout              MA Chidambaram Stadium, Chennai   \n",
       "\n",
       "       time_of_match                 toss                       winner  \\\n",
       "0    Day/Night Match       Mumbai Indians               Mumbai Indians   \n",
       "1    Day/Night Match     Delhi Daredevils             Delhi Daredevils   \n",
       "2    Day/Night Match       Mumbai Indians                Pune Warriors   \n",
       "3    Day/Night Match      Kings XI Punjab             Rajasthan Royals   \n",
       "4    Day/Night Match     Delhi Daredevils  Royal Challengers Bangalore   \n",
       "..               ...                  ...                          ...   \n",
       "953  Day/Night Match       Mumbai Indians               Mumbai Indians   \n",
       "954  Day/Night Match  Chennai Super Kings          Chennai Super Kings   \n",
       "955  Day/Night Match       Mumbai Indians               Mumbai Indians   \n",
       "956  Day/Night Match       Mumbai Indians  Royal Challengers Bangalore   \n",
       "957  Day/Night Match  Chennai Super Kings          Chennai Super Kings   \n",
       "\n",
       "       man_of_match  outcome  \n",
       "0      Richard Levi        0  \n",
       "1      Irfan Pathan        0  \n",
       "2       Steve Smith        0  \n",
       "3    Ajinkya Rahane        1  \n",
       "4    AB de Villiers        1  \n",
       "..              ...      ...  \n",
       "953  James Franklin        0  \n",
       "954    Suresh Raina        0  \n",
       "955     Munaf Patel        0  \n",
       "956     Chris Gayle        1  \n",
       "957    Murali Vijay        1  \n",
       "\n",
       "[958 rows x 10 columns]"
      ]
     },
     "execution_count": 68,
     "metadata": {},
     "output_type": "execute_result"
    }
   ],
   "source": [
    "df = pd.read_csv('ipl_data.csv', index_col=[0])\n",
    "df.drop(['points'], axis=1, inplace=True)\n",
    "df['winner'] = df['winner'].apply(winner)\n",
    "df['toss'] = df['toss'].apply(toss)\n",
    "df['type'] = df['type'].apply(type_of_match)\n",
    "df['season'] = df['season'].apply(change_season)\n",
    "df['winner'].replace(\"Match abandoned\", \"No result\", inplace=True)\n",
    "df['outcome'] = np.where(df['home'] == df['winner'], 1, 0)\n",
    "df.rename(columns={\"season\": \"match_type\", \"type\": \"time_of_match\"}, inplace=True)\n",
    "df"
   ]
  },
  {
   "cell_type": "code",
   "execution_count": null,
   "id": "Cw0kx_KpLIuz",
   "metadata": {
    "colab": {
     "base_uri": "https://localhost:8080/"
    },
    "executionInfo": {
     "elapsed": 27,
     "status": "ok",
     "timestamp": 1678362150588,
     "user": {
      "displayName": "Bharani J",
      "userId": "03739191526649718307"
     },
     "user_tz": -330
    },
    "id": "Cw0kx_KpLIuz",
    "outputId": "76099762-9a61-47f8-fbb5-58a9d1b6ae9f"
   },
   "outputs": [
    {
     "data": {
      "text/plain": [
       "AB de Villiers      25\n",
       "Chris Gayle         22\n",
       "David Warner        18\n",
       "Rohit Sharma        18\n",
       "M S Dhoni           17\n",
       "                    ..\n",
       "Shimron Hetmeyer     1\n",
       "Khaleel Ahmed        1\n",
       "Keemo Paul           1\n",
       "Imran Tahir          1\n",
       "James Franklin       1\n",
       "Name: man_of_match, Length: 263, dtype: int64"
      ]
     },
     "execution_count": 71,
     "metadata": {},
     "output_type": "execute_result"
    }
   ],
   "source": [
    "df.man_of_match.value_counts()"
   ]
  },
  {
   "cell_type": "code",
   "execution_count": null,
   "id": "_YUWk2_F8X0R",
   "metadata": {
    "id": "_YUWk2_F8X0R"
   },
   "outputs": [],
   "source": []
  }
 ],
 "metadata": {
  "colab": {
   "provenance": []
  },
  "kernelspec": {
   "display_name": "Python 3 (ipykernel)",
   "language": "python",
   "name": "python3"
  },
  "language_info": {
   "codemirror_mode": {
    "name": "ipython",
    "version": 3
   },
   "file_extension": ".py",
   "mimetype": "text/x-python",
   "name": "python",
   "nbconvert_exporter": "python",
   "pygments_lexer": "ipython3",
   "version": "3.10.9"
  }
 },
 "nbformat": 4,
 "nbformat_minor": 5
}
